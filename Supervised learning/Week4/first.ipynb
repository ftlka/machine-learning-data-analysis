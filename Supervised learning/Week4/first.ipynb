{
 "cells": [
  {
   "cell_type": "code",
   "execution_count": 1,
   "metadata": {},
   "outputs": [],
   "source": [
    "from sklearn.datasets import load_digits\n",
    "from sklearn.model_selection import cross_val_score\n",
    "\n",
    "df = load_digits()\n",
    "X, y = df.data, df.target\n",
    "\n",
    "cv, n_jobs = 10, -1"
   ]
  },
  {
   "cell_type": "code",
   "execution_count": 2,
   "metadata": {},
   "outputs": [
    {
     "name": "stdout",
     "output_type": "stream",
     "text": [
      "0.8268634579708936\n"
     ]
    }
   ],
   "source": [
    "from sklearn.tree import DecisionTreeClassifier\n",
    "\n",
    "clf = DecisionTreeClassifier()\n",
    "print(cross_val_score(clf, X, y, cv=cv, n_jobs=n_jobs).mean())"
   ]
  },
  {
   "cell_type": "code",
   "execution_count": 3,
   "metadata": {},
   "outputs": [
    {
     "name": "stdout",
     "output_type": "stream",
     "text": [
      "0.9259830100420847\n"
     ]
    }
   ],
   "source": [
    "from sklearn.ensemble import BaggingClassifier\n",
    "\n",
    "bagging_clf = BaggingClassifier(clf, n_estimators=100)\n",
    "print(cross_val_score(bagging_clf, X, y, cv=cv, n_jobs=n_jobs).mean())"
   ]
  },
  {
   "cell_type": "code",
   "execution_count": 4,
   "metadata": {},
   "outputs": [
    {
     "name": "stdout",
     "output_type": "stream",
     "text": [
      "0.9243766218594633\n"
     ]
    }
   ],
   "source": [
    "import numpy as np\n",
    "\n",
    "sqrt_features = int(np.math.sqrt(X.shape[1]))\n",
    "bagging_clf = BaggingClassifier(clf, n_estimators=100, max_features=sqrt_features)\n",
    "print(cross_val_score(bagging_clf, X, y, cv=cv, n_jobs=n_jobs).mean())"
   ]
  },
  {
   "cell_type": "code",
   "execution_count": 5,
   "metadata": {},
   "outputs": [
    {
     "name": "stdout",
     "output_type": "stream",
     "text": [
      "0.9489003774976658\n"
     ]
    }
   ],
   "source": [
    "# it's the idea of random forest classifier\n",
    "clf = DecisionTreeClassifier(max_features=sqrt_features)\n",
    "bagging_clf = BaggingClassifier(clf, n_estimators=100)\n",
    "\n",
    "bagging_score = cross_val_score(bagging_clf, X, y, cv=cv, n_jobs=n_jobs).mean()\n",
    "print(bagging_score)"
   ]
  },
  {
   "cell_type": "code",
   "execution_count": 6,
   "metadata": {},
   "outputs": [
    {
     "name": "stdout",
     "output_type": "stream",
     "text": [
      "many trees: 0.955008774040218\n",
      "few trees: 0.8709824521327929\n",
      "\n",
      "many features: 0.9193088728525982\n",
      "few features: 0.9333456894178751\n",
      "\n",
      "small depth: 0.8740109282745584\n",
      "bigger depth: 0.9198285970090797\n",
      "unlimited depth: 0.925475752648449\n"
     ]
    }
   ],
   "source": [
    "from sklearn.ensemble import RandomForestClassifier\n",
    "\n",
    "random_forest_clf = RandomForestClassifier(n_estimators=100)\n",
    "random_forest_score = cross_val_score(random_forest_clf, X, y, cv=cv, n_jobs=n_jobs).mean()\n",
    "print('many trees:', random_forest_score)\n",
    "\n",
    "random_forest_clf = RandomForestClassifier(n_estimators=5)\n",
    "random_forest_score = cross_val_score(random_forest_clf, X, y, cv=cv, n_jobs=n_jobs).mean()\n",
    "print('few trees:', random_forest_score)\n",
    "\n",
    "print()\n",
    "random_forest_clf = RandomForestClassifier(max_features=50)\n",
    "random_forest_score = cross_val_score(random_forest_clf, X, y, cv=cv, n_jobs=n_jobs).mean()\n",
    "print('many features:', random_forest_score)\n",
    "\n",
    "random_forest_clf = RandomForestClassifier(max_features=10)\n",
    "random_forest_score = cross_val_score(random_forest_clf, X, y, cv=cv, n_jobs=n_jobs).mean()\n",
    "print('few features:', random_forest_score)\n",
    "\n",
    "print()\n",
    "random_forest_clf = RandomForestClassifier(max_depth=5)\n",
    "random_forest_score = cross_val_score(random_forest_clf, X, y, cv=cv, n_jobs=n_jobs).mean()\n",
    "print('small depth:', random_forest_score)\n",
    "\n",
    "random_forest_clf = RandomForestClassifier(max_depth=20)\n",
    "random_forest_score = cross_val_score(random_forest_clf, X, y, cv=cv, n_jobs=n_jobs).mean()\n",
    "print('bigger depth:', random_forest_score)\n",
    "\n",
    "random_forest_clf = RandomForestClassifier(max_depth=None)\n",
    "random_forest_score = cross_val_score(random_forest_clf, X, y, cv=cv, n_jobs=n_jobs).mean()\n",
    "print('unlimited depth:', random_forest_score)"
   ]
  }
 ],
 "metadata": {
  "kernelspec": {
   "display_name": "Python 3",
   "language": "python",
   "name": "python3"
  },
  "language_info": {
   "codemirror_mode": {
    "name": "ipython",
    "version": 3
   },
   "file_extension": ".py",
   "mimetype": "text/x-python",
   "name": "python",
   "nbconvert_exporter": "python",
   "pygments_lexer": "ipython3",
   "version": "3.5.2"
  }
 },
 "nbformat": 4,
 "nbformat_minor": 2
}
