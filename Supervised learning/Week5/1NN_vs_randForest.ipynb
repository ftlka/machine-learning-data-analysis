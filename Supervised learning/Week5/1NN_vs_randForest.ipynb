{
 "cells": [
  {
   "cell_type": "code",
   "execution_count": 1,
   "metadata": {},
   "outputs": [],
   "source": [
    "from sklearn.datasets import load_digits\n",
    "\n",
    "digits = load_digits()\n",
    "train_size = int(0.75 * len(digits.data))\n",
    "\n",
    "X_train, X_test = digits.data[:train_size], digits.data[train_size:]\n",
    "y_train, y_test = digits.target[:train_size], digits.target[train_size:]"
   ]
  },
  {
   "cell_type": "code",
   "execution_count": 2,
   "metadata": {},
   "outputs": [
    {
     "name": "stdout",
     "output_type": "stream",
     "text": [
      "error 0.0377777777777778\n"
     ]
    }
   ],
   "source": [
    "import numpy as np\n",
    "\n",
    "def dist(a, b):\n",
    "    return np.linalg.norm(a-b)\n",
    "\n",
    "def one_NN(element, train, marks):\n",
    "    distances = []\n",
    "\n",
    "    for i, train_el in enumerate(train):\n",
    "        distances.append([dist(element, train_el), i])\n",
    "\n",
    "    distances.sort(key=lambda x: x[0])\n",
    "    idx = distances[0][1]\n",
    "    return marks[idx]\n",
    "\n",
    "y_pred = []\n",
    "for e in X_test:\n",
    "    y_pred.append(one_NN(e, X_train, y_train))\n",
    "y_pred = np.array(y_pred)\n",
    "\n",
    "\n",
    "from sklearn.metrics import accuracy_score\n",
    "print('error', 1 - accuracy_score(y_test, y_pred))"
   ]
  },
  {
   "cell_type": "code",
   "execution_count": 3,
   "metadata": {},
   "outputs": [
    {
     "name": "stdout",
     "output_type": "stream",
     "text": [
      "error 0.06444444444444442\n"
     ]
    }
   ],
   "source": [
    "from sklearn.ensemble import RandomForestClassifier\n",
    "\n",
    "clf = RandomForestClassifier(n_estimators=1000)\n",
    "clf.fit(X_train, y_train)\n",
    "y_pred = clf.predict(X_test)\n",
    "\n",
    "print('error', 1 - accuracy_score(y_test, y_pred))"
   ]
  }
 ],
 "metadata": {
  "kernelspec": {
   "display_name": "Python 3",
   "language": "python",
   "name": "python3"
  },
  "language_info": {
   "codemirror_mode": {
    "name": "ipython",
    "version": 3
   },
   "file_extension": ".py",
   "mimetype": "text/x-python",
   "name": "python",
   "nbconvert_exporter": "python",
   "pygments_lexer": "ipython3",
   "version": "3.5.2"
  }
 },
 "nbformat": 4,
 "nbformat_minor": 2
}
